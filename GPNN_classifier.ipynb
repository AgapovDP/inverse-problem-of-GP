{
  "nbformat": 4,
  "nbformat_minor": 0,
  "metadata": {
    "colab": {
      "provenance": [],
      "collapsed_sections": []
    },
    "kernelspec": {
      "name": "python3",
      "display_name": "Python 3"
    },
    "language_info": {
      "name": "python"
    },
    "accelerator": "GPU"
  },
  "cells": [
    {
      "cell_type": "code",
      "execution_count": 1,
      "metadata": {
        "id": "2UaLIXo0KRLc"
      },
      "outputs": [],
      "source": [
        "import numpy as np\n",
        "import random \n",
        "import matplotlib.pyplot as plt\n",
        "from torch import nn,manual_seed,from_numpy, split, tensor\n",
        "import torch.optim as optim\n",
        "import torch\n",
        "import time"
      ]
    },
    {
      "cell_type": "code",
      "source": [
        "def calaculate_accuracy_classifier(model,data,device):\n",
        "  correct_1, total_1 = 0., 0.\n",
        "  correct_2, total_2 = 0., 0.\n",
        "  correct_3, total_3 = 0., 0.\n",
        "  correct_4, total_4 = 0., 0.\n",
        "  numBatch = 0\n",
        "  while numBatch < len(data):\n",
        "    corrFunc, labels = data[numBatch]\n",
        "    numBatch = numBatch + 1\n",
        "    corrFunc, labels = corrFunc.to(device), labels.to(device)\n",
        "    Y_pred = model.forward(corrFunc.float()) # get output\n",
        "    max_1,max_2,max_3,max_4 = [],[],[],[]\n",
        "    for i in labels:\n",
        "      max_1.append(i[0].item())\n",
        "      max_2.append(i[1].item())\n",
        "      max_3.append(i[2].item())\n",
        "      max_4.append(i[3].item())\n",
        "    max_1,max_2,max_3,max_4  = torch.tensor(max_1).to(device),torch.tensor(max_2).to(device),\\\n",
        "              torch.tensor(max_3).to(device),torch.tensor(max_4).to(device)\n",
        "    max_1,max_2,max_3,max_4 = max_1.to(device),max_2.to(device),max_3.to(device),max_4.to(device)\n",
        "    _, predicted_1 = torch.max(Y_pred[0].data, 1) # get predicted class\n",
        "    _, predicted_2 = torch.max(Y_pred[1].data, 1)\n",
        "    _, predicted_3 = torch.max(Y_pred[2].data, 1)\n",
        "    _, predicted_4 = torch.max(Y_pred[3].data, 1)\n",
        "    total_1 += max_1.size(0) # all examples\n",
        "    total_2 += max_2.size(0) # all examples\n",
        "    total_3 += max_3.size(0) # all examples\n",
        "    total_4 += max_4.size(0) # all examples\n",
        "    correct_1 += (predicted_1 == max_1).sum().item()\n",
        "    correct_2 += (predicted_2 == max_2).sum().item()\n",
        "    correct_3 += (predicted_3 == max_3).sum().item()\n",
        "    correct_4 += (predicted_4 == max_4).sum().item()\n",
        "  return correct_1/total_1,correct_2/total_2,correct_3/total_3,correct_4/total_4"
      ],
      "metadata": {
        "id": "zVNr4d899J4X"
      },
      "execution_count": 2,
      "outputs": []
    },
    {
      "cell_type": "code",
      "source": [
        "def dataConvertor(data):\n",
        "    inputData = []\n",
        "    outputData = []\n",
        "    for i in data:\n",
        "        inputData.append(i[0])\n",
        "        outputData.append(i[1])\n",
        "    return tensor(inputData),tensor(outputData)\n",
        "\n",
        "\n",
        "def dataBatching(data,batch_len=1):\n",
        "    inputData =  split(data[0],batch_len)\n",
        "    outputData = split(data[1],batch_len)\n",
        "    batchedData = []\n",
        "    for i in range(len(inputData)):\n",
        "        batchedData.append([inputData[i],outputData[i]])\n",
        "    return batchedData"
      ],
      "metadata": {
        "id": "F_nLqiarMWgk"
      },
      "execution_count": 3,
      "outputs": []
    },
    {
      "cell_type": "code",
      "source": [
        "def loss_classifier(criterion,predict,original,device):\n",
        "  criterion = nn.CrossEntropyLoss()\n",
        "  loss_1,loss_2,loss_3,loss_4 = [],[],[],[]\n",
        "  for i in original:\n",
        "    loss_1.append(i[0].item())\n",
        "    loss_2.append(i[1].item())\n",
        "    loss_3.append(i[2].item())\n",
        "    loss_4.append(i[3].item())\n",
        "  loss_1,loss_2,loss_3,loss_4 = torch.tensor(loss_1).to(device),torch.tensor(loss_2).to(device),\\\n",
        "              torch.tensor(loss_3).to(device),torch.tensor(loss_4).to(device)\n",
        "  total_loss = criterion(predict[0],loss_1)+criterion(predict[1],loss_2)+\\\n",
        "  criterion(predict[2],loss_3)+criterion(predict[3],loss_4)\n",
        "  return total_loss\n",
        "\n",
        "  "
      ],
      "metadata": {
        "id": "qmDT21JaVC5I"
      },
      "execution_count": 4,
      "outputs": []
    },
    {
      "cell_type": "markdown",
      "source": [
        "classification report (sklearn)"
      ],
      "metadata": {
        "id": "5f-ssJfu2cxn"
      }
    },
    {
      "cell_type": "code",
      "source": [
        "\n",
        "\n",
        "baseSeq = nn.Sequential(\n",
        "     nn.Linear(9, 144),\n",
        "     nn.Unflatten(1, (1,12, 12)),\n",
        "     nn.ReLU(),\n",
        "     nn.Conv2d(1, 10, 2, padding=2),\n",
        "     nn.ReLU(),\n",
        "     nn.Conv2d(10, 20, 2, padding=2),\n",
        "     nn.Flatten(),\n",
        "     nn.ReLU(),\n",
        "     nn.Dropout(0.3),\n",
        "     nn.Linear(6480, 1000),\n",
        "     nn.ReLU(),\n",
        "     nn.Dropout(0.3),\n",
        "     nn.Linear(1000, 50),\n",
        "     nn.ReLU()\n",
        ")\n",
        "\n",
        "\n",
        "class GPNN_classifier(nn.Module):\n",
        "    def __init__(self, Seq = baseSeq ):\n",
        "        super().__init__()\n",
        "        self.layers_stack = Seq\n",
        "        self.exit_1 = nn.Sequential(nn.Linear(50, 2))\n",
        "        self.exit_2 = nn.Sequential(nn.Linear(50, 2))\n",
        "        self.exit_3 = nn.Sequential(nn.Linear(50, 2))\n",
        "        self.exit_4 = nn.Sequential(nn.Linear(50, 2))\n",
        "\n",
        "    def forward(self, x):\n",
        "        x = self.layers_stack(x)\n",
        "        return self.exit_1(x),self.exit_2(x),self.exit_3(x),self.exit_4(x)\n",
        "\n",
        "\n",
        "\n",
        "def trainGPNN_c(model, trainloader,testloader,device = 'cpu', num_epochs = 2, criterion = nn.MSELoss,\\\n",
        "              optimizer = optim.Adam,learning_rate = 0.001,maxBatch = 10):\n",
        "\n",
        "    \n",
        "    optimizer = optimizer(model.parameters(), lr=learning_rate)\n",
        "    num_epochs = num_epochs\n",
        "    loss_hist = [] # for plotting\n",
        "    acc_test_1,acc_test_2,acc_test_3,acc_test_4 = [],[],[],[]\n",
        "    acc_train_1,acc_train_2,acc_train_3,acc_train_4 = [],[],[],[]\n",
        "    for epoch in range(num_epochs):\n",
        "        hist_loss = 0\n",
        "        numBatch = 0\n",
        "        while numBatch < maxBatch:\n",
        "            corrFunc, values = trainloader[numBatch]\n",
        "            corrFunc, values = corrFunc.to(device), values.to(device)\n",
        "            numBatch = numBatch + 1\n",
        "            optimizer.zero_grad()\n",
        "            loss = loss_classifier(criterion, model(corrFunc), values,device)\n",
        "            loss.backward()    \n",
        "            optimizer.step()\n",
        "            hist_loss += loss.item()\n",
        "        loss_hist.append(hist_loss /len(trainloader))\n",
        "        a,b,c,d = calaculate_accuracy_classifier(model,trainloader,device)\n",
        "        acc_train_1.append(a);acc_train_2.append(b);acc_train_3.append(c);acc_train_4.append(d)\n",
        "        a,b,c,d = calaculate_accuracy_classifier(model,testloader,device)\n",
        "        acc_test_1.append(a);acc_test_2.append(b);acc_test_3.append(c);acc_test_4.append(d)\n",
        "        if epoch%10 == 0: print(f\"Epoch={epoch} loss={loss_hist[epoch]:.5f}\")\n",
        "    return loss_hist,[acc_test_1,acc_test_2,acc_test_3,acc_test_4],[acc_train_1,acc_train_2,acc_train_3,acc_train_4]\n"
      ],
      "metadata": {
        "id": "LWVzaR_8Kb7Z"
      },
      "execution_count": 5,
      "outputs": []
    },
    {
      "cell_type": "code",
      "source": [
        "from google.colab import drive\n",
        "drive.mount('/content/gdrive')"
      ],
      "metadata": {
        "colab": {
          "base_uri": "https://localhost:8080/"
        },
        "id": "Zk0jeqhAMZtE",
        "outputId": "34af4498-3e50-4c97-a7e2-cbc489835dff"
      },
      "execution_count": 7,
      "outputs": [
        {
          "output_type": "stream",
          "name": "stdout",
          "text": [
            "Mounted at /content/gdrive\n"
          ]
        }
      ]
    },
    {
      "cell_type": "code",
      "source": [
        "testData = np.load(\"/content/gdrive/MyDrive/Data_art_NN/Datasets/forClassifiar_test_100000.npy\",allow_pickle=True)\n",
        "trainData = np.load(\"/content/gdrive/MyDrive/Data_art_NN/Datasets/forClassifiar_train_100000.npy\",allow_pickle=True)\n",
        "trainData = dataBatching(dataConvertor(trainData),500)\n",
        "testData = dataBatching(dataConvertor(testData),500)"
      ],
      "metadata": {
        "id": "sZs0dp-QMbcd",
        "colab": {
          "base_uri": "https://localhost:8080/"
        },
        "outputId": "2543a1c9-e30b-468d-c0c3-a7fea717752a"
      },
      "execution_count": 8,
      "outputs": [
        {
          "output_type": "stream",
          "name": "stderr",
          "text": [
            "/usr/local/lib/python3.7/dist-packages/ipykernel_launcher.py:7: UserWarning: Creating a tensor from a list of numpy.ndarrays is extremely slow. Please consider converting the list to a single numpy.ndarray with numpy.array() before converting to a tensor. (Triggered internally at  ../torch/csrc/utils/tensor_new.cpp:201.)\n",
            "  import sys\n"
          ]
        }
      ]
    },
    {
      "cell_type": "code",
      "source": [
        "device = torch.device('cuda' if torch.cuda.is_available() else 'cpu')\n",
        "print('Using device:', device)"
      ],
      "metadata": {
        "colab": {
          "base_uri": "https://localhost:8080/"
        },
        "id": "ZhNj0nQTNosy",
        "outputId": "335aa880-c389-457d-871c-47a4a41942e3"
      },
      "execution_count": 9,
      "outputs": [
        {
          "output_type": "stream",
          "name": "stdout",
          "text": [
            "Using device: cuda\n"
          ]
        }
      ]
    },
    {
      "cell_type": "code",
      "source": [
        "newModelSeq = nn.Sequential(\n",
        "     nn.Linear(9, 200),\n",
        "     nn.ReLU(),\n",
        "     nn.Linear(200, 2000),\n",
        "     nn.ReLU(),\n",
        "     nn.Dropout(0.3),\n",
        "     nn.Linear(2000, 4000),\n",
        "     nn.ReLU(),\n",
        "     nn.Dropout(0.3),\n",
        "     nn.Linear(4000, 700),\n",
        "     nn.ReLU(),\n",
        "     nn.Dropout(0.3),\n",
        "     nn.Linear(700, 50),\n",
        "     nn.ReLU()\n",
        ")\n",
        "\n",
        "manual_seed(42)\n",
        "random.seed(42)\n",
        "np.random.seed(42)\n",
        "\n",
        "model = GPNN_classifier(newModelSeq).to(device)\n",
        "model = model.float()\n",
        "time_0 = time.time()\n",
        "loss, acc_train, acc_test = trainGPNN_c(model,trainData,\\\n",
        "                       testData ,num_epochs = 40, learning_rate = 0.001, device = device, maxBatch = 200)\n",
        "print(\"Duration:\", time.time()-time_0)"
      ],
      "metadata": {
        "colab": {
          "base_uri": "https://localhost:8080/"
        },
        "id": "5NjXcAgqaAzi",
        "outputId": "1f98b19b-9e6e-455b-9fa5-f085c61b1ea6"
      },
      "execution_count": 10,
      "outputs": [
        {
          "output_type": "stream",
          "name": "stdout",
          "text": [
            "Epoch=0 loss=2.04847\n",
            "Epoch=10 loss=1.07545\n",
            "Epoch=20 loss=0.86856\n",
            "Epoch=30 loss=0.78531\n",
            "Duration: 794.205735206604\n"
          ]
        }
      ]
    },
    {
      "cell_type": "code",
      "source": [
        "fig, ax = plt.subplots()\n",
        "ax.plot(acc_test[0])\n",
        "ax.plot(acc_test[1])\n",
        "ax.plot(acc_test[2])\n",
        "ax.plot(acc_test[3])\n",
        "ax.plot(acc_train[0],\".\")\n",
        "ax.plot(acc_train[1],\".\")\n",
        "ax.plot(acc_train[2],\".\")\n",
        "ax.plot(acc_train[3],\".\")\n",
        "ax.set_xlabel(\"Номер эпохи\")\n",
        "ax.set_ylabel(\"Величина accuracy\")"
      ],
      "metadata": {
        "colab": {
          "base_uri": "https://localhost:8080/",
          "height": 296
        },
        "id": "3C6vieuVBJva",
        "outputId": "7ef235ee-6d93-42de-d9a7-7ed8943496dd"
      },
      "execution_count": 11,
      "outputs": [
        {
          "output_type": "execute_result",
          "data": {
            "text/plain": [
              "Text(0, 0.5, 'Величина accuracy')"
            ]
          },
          "metadata": {},
          "execution_count": 11
        },
        {
          "output_type": "display_data",
          "data": {
            "text/plain": [
              "<Figure size 432x288 with 1 Axes>"
            ],
            "image/png": "[encoded data removed]"
          },
          "metadata": {
            "needs_background": "light"
          }
        }
      ]
    },
    {
      "cell_type": "code",
      "source": [
        "\n",
        "manual_seed(42)\n",
        "random.seed(42)\n",
        "np.random.seed(42)\n",
        "\n",
        "model = GPNN_classifier().to(device)\n",
        "model = model.float()\n",
        "time_0 = time.time()\n",
        "loss, acc_train, acc_test = trainGPNN_c(model,trainData,\\\n",
        "                       testData ,num_epochs = 40, learning_rate = 0.001, device = device, maxBatch = 200)\n",
        "print(\"Duration:\", time.time()-time_0)\n"
      ],
      "metadata": {
        "colab": {
          "base_uri": "https://localhost:8080/"
        },
        "id": "lRhqSzXwNpk0",
        "outputId": "b87595b7-2a16-4349-8921-baaa1b4f781d"
      },
      "execution_count": null,
      "outputs": [
        {
          "output_type": "stream",
          "name": "stdout",
          "text": [
            "Epoch=0 loss=2.47056\n",
            "Epoch=10 loss=1.13954\n",
            "Epoch=20 loss=0.92534\n",
            "Epoch=30 loss=0.84059\n",
            "Duration: 813.2825665473938\n"
          ]
        }
      ]
    },
    {
      "cell_type": "code",
      "source": [
        "fig, ax = plt.subplots()\n",
        "ax.plot(acc_test[0])\n",
        "ax.plot(acc_test[1])\n",
        "ax.plot(acc_test[2])\n",
        "ax.plot(acc_test[3])\n",
        "ax.plot(acc_train[0],\".\")\n",
        "ax.plot(acc_train[1],\".\")\n",
        "ax.plot(acc_train[2],\".\")\n",
        "ax.plot(acc_train[3],\".\")\n",
        "ax.set_xlabel(\"Номер эпохи\")\n",
        "ax.set_ylabel(\"Величина accuracy\")"
      ],
      "metadata": {
        "colab": {
          "base_uri": "https://localhost:8080/",
          "height": 296
        },
        "id": "5APe4kkE9CTU",
        "outputId": "6b0701d8-8740-4290-e446-4db12ecfec2f"
      },
      "execution_count": null,
      "outputs": [
        {
          "output_type": "execute_result",
          "data": {
            "text/plain": [
              "Text(0, 0.5, 'Величина accuracy')"
            ]
          },
          "metadata": {},
          "execution_count": 10
        },
        {
          "output_type": "display_data",
          "data": {
            "text/plain": [
              "<Figure size 432x288 with 1 Axes>"
            ],
            "image/png": "[encoded data removed]"
          },
          "metadata": {
            "needs_background": "light"
          }
        }
      ]
    },
    {
      "cell_type": "code",
      "source": [
        "print(model(testData[0][0].to(device)))\n",
        "testData[0][1].to(device)"
      ],
      "metadata": {
        "id": "6nMEYUTA3sQO"
      },
      "execution_count": null,
      "outputs": []
    },
    {
      "cell_type": "code",
      "source": [
        "corrFunc, values = trainData[0]\n",
        "corrFunc, values = corrFunc.to(device), values.to(device)\n",
        "loss = loss_classifier(nn.CrossEntropyLoss(), model(corrFunc), values,device)\n"
      ],
      "metadata": {
        "id": "pR2JmS35BoFq"
      },
      "execution_count": null,
      "outputs": []
    },
    {
      "cell_type": "code",
      "source": [
        "loss"
      ],
      "metadata": {
        "colab": {
          "base_uri": "https://localhost:8080/"
        },
        "id": "AoLZ3hFYJjBw",
        "outputId": "b652f5f9-f56a-41dc-c6f3-cfb4c469bd27"
      },
      "execution_count": null,
      "outputs": [
        {
          "output_type": "execute_result",
          "data": {
            "text/plain": [
              "tensor(0.8046, device='cuda:0', grad_fn=<AddBackward0>)"
            ]
          },
          "metadata": {},
          "execution_count": 14
        }
      ]
    },
    {
      "cell_type": "code",
      "source": [],
      "metadata": {
        "id": "_oZ82f9HJkoe"
      },
      "execution_count": null,
      "outputs": []
    }
  ]
}