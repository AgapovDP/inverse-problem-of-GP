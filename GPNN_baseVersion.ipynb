{
  "cells": [
    {
      "cell_type": "markdown",
      "metadata": {
        "id": "xFiJES_JkIc6"
      },
      "source": [
        "### Для запуска"
      ]
    },
    {
      "cell_type": "code",
      "execution_count": null,
      "metadata": {
        "id": "YjmYRaY7GLaI"
      },
      "outputs": [],
      "source": [
        "import numpy as np\n",
        "import random \n",
        "import matplotlib.pyplot as plt\n",
        "from torch import nn,manual_seed,from_numpy, split, tensor\n",
        "import torch.optim as optim\n",
        "import torch\n",
        "import time"
      ]
    },
    {
      "cell_type": "code",
      "execution_count": null,
      "metadata": {
        "colab": {
          "base_uri": "https://localhost:8080/"
        },
        "id": "nHqFgbzw_qLq",
        "outputId": "fa843e2a-a38d-41bd-91ec-ffc66b8a1898"
      },
      "outputs": [
        {
          "output_type": "stream",
          "name": "stdout",
          "text": [
            "Using device: cuda\n"
          ]
        }
      ],
      "source": [
        "device = torch.device('cuda' if torch.cuda.is_available() else 'cpu')\n",
        "print('Using device:', device)"
      ]
    },
    {
      "cell_type": "code",
      "execution_count": null,
      "metadata": {
        "colab": {
          "base_uri": "https://localhost:8080/"
        },
        "id": "w_nSjBowGc2s",
        "outputId": "475b963c-e520-4414-8ef4-f1a4ac11ce17"
      },
      "outputs": [
        {
          "output_type": "stream",
          "name": "stdout",
          "text": [
            "Drive already mounted at /content/gdrive; to attempt to forcibly remount, call drive.mount(\"/content/gdrive\", force_remount=True).\n"
          ]
        }
      ],
      "source": [
        "from google.colab import drive\n",
        "drive.mount('/content/gdrive')"
      ]
    },
    {
      "cell_type": "markdown",
      "metadata": {
        "id": "iz0Cdpc1TiD2"
      },
      "source": [
        "Далее идут две функции, которые нужны для перевода данных в тензор."
      ]
    },
    {
      "cell_type": "code",
      "execution_count": null,
      "metadata": {
        "id": "uMIfITyzGVdY"
      },
      "outputs": [],
      "source": [
        "def dataConvertor(data,device):\n",
        "    inputData = []\n",
        "    outputData = []\n",
        "    classVectors = []\n",
        "    for i in data:\n",
        "        inputData.append(i[0])\n",
        "        classVectors.append(i[1])\n",
        "        outputData.append(i[2])\n",
        "    return  tensor(inputData).to(device),tensor(classVectors).to(device),tensor(outputData).to(device)\n",
        "\n",
        "\n",
        "def dataBatching(data,batch_len=1):\n",
        "    inputData =  split(data[0],batch_len)\n",
        "    classVectors = split(data[1],batch_len)\n",
        "    outputData = split(data[2],batch_len)\n",
        "    batchedData = []\n",
        "    for i in range(len(inputData)):\n",
        "        batchedData.append([inputData[i],classVectors[i],outputData[i]])\n",
        "    return batchedData"
      ]
    },
    {
      "cell_type": "code",
      "execution_count": null,
      "metadata": {
        "id": "F7-jQN4JGdgk"
      },
      "outputs": [],
      "source": [
        "load_testData = np.load(\"/content/gdrive/MyDrive/Data_art_NN/Datasets/forRegression_allClass_test_500000.npy\",allow_pickle=True)\n",
        "load_trainData = np.load(\"/content/gdrive/MyDrive/Data_art_NN/Datasets/forRegression_allClass_train_500000.npy\",allow_pickle=True)"
      ]
    },
    {
      "cell_type": "code",
      "execution_count": null,
      "metadata": {
        "id": "chgiInN0d1pK"
      },
      "outputs": [],
      "source": [
        "trainData = dataBatching(dataConvertor(load_trainData,device),500)\n",
        "testData = dataBatching(dataConvertor(load_testData,device),500)"
      ]
    },
    {
      "cell_type": "code",
      "execution_count": null,
      "metadata": {
        "id": "pcafwI_kjbYT"
      },
      "outputs": [],
      "source": [
        "for batch,_ in enumerate(testData):\n",
        "  for i in range(500):\n",
        "    testData[batch][2][i][1] = (testData[batch][2][i][1]  + torch.tensor(np.pi/2))/np.pi\n",
        "    testData[batch][2][i][3] = (testData[batch][2][i][3]  + torch.tensor(np.pi/2))/np.pi\n",
        "    testData[batch][2][i][4] = (testData[batch][2][i][4])/(2*np.pi)\n",
        "    testData[batch][2][i][5] = (testData[batch][2][i][5]  + torch.tensor(1.))/2\n",
        "    testData[batch][2][i][6] = (testData[batch][2][i][6])/(2*np.pi)\n",
        "    trainData[batch][2][i][1] = (trainData[batch][2][i][1]  + torch.tensor(np.pi/2))/np.pi\n",
        "    trainData[batch][2][i][3] = (trainData[batch][2][i][3]  + torch.tensor(np.pi/2))/np.pi\n",
        "    trainData[batch][2][i][4] = (trainData[batch][2][i][4])/(2*np.pi)\n",
        "    trainData[batch][2][i][5] = (trainData[batch][2][i][5]  + torch.tensor(1.))/2\n",
        "    trainData[batch][2][i][6] = (trainData[batch][2][i][6])/(2*np.pi)\n"
      ]
    },
    {
      "cell_type": "code",
      "execution_count": null,
      "metadata": {
        "id": "ZbvI1ICQdrfs"
      },
      "outputs": [],
      "source": []
    },
    {
      "cell_type": "code",
      "execution_count": null,
      "metadata": {
        "colab": {
          "base_uri": "https://localhost:8080/",
          "height": 390
        },
        "id": "2c6KEyTsmFJb",
        "outputId": "c8c3744f-6f20-4c2e-a158-1fd0f9b4ab06"
      },
      "outputs": [
        {
          "name": "stdout",
          "output_type": "stream",
          "text": [
            "[tensor(0.4201), tensor(0.0208), tensor(0.9665), tensor(0.1097), tensor(0.1746), tensor(0.6495), tensor(0.3985), tensor(0.5002), tensor(0.2312), tensor(0.6515), tensor(0.5577), tensor(0.0541), tensor(0.8643), tensor(0.6504), tensor(0.1162), tensor(0.7374), tensor(0.0096), tensor(0.5300), tensor(0.0713), tensor(0.2704), tensor(0.6355), tensor(0.7839), tensor(0.7065), tensor(0.3558), tensor(0.6860), tensor(0.8940), tensor(0.0340), tensor(0.4359), tensor(0.8887), tensor(0.1268), tensor(0.7846), tensor(0.7029), tensor(0.1682), tensor(0.7664), tensor(0.7704), tensor(0.9217), tensor(0.8428), tensor(0.9576), tensor(0.8348), tensor(0.6653), tensor(0.2295), tensor(0.0390), tensor(0.8698), tensor(0.1688), tensor(0.6625), tensor(0.9468), tensor(0.4337), tensor(0.2473), tensor(0.8747), tensor(0.3379), tensor(0.6277), tensor(0.7498), tensor(0.0877), tensor(0.0227), tensor(0.8363), tensor(0.7133), tensor(0.5076), tensor(0.8806), tensor(0.7723), tensor(0.5784), tensor(0.3737), tensor(0.6410), tensor(0.4416), tensor(0.0104), tensor(0.7120), tensor(0.8347), tensor(0.6052), tensor(0.7665), tensor(0.0283), tensor(0.0179), tensor(0.2083), tensor(0.4698), tensor(0.1594), tensor(0.5433), tensor(0.3869), tensor(0.2090), tensor(0.5304), tensor(0.8872), tensor(0.6479), tensor(0.9207), tensor(0.6767), tensor(0.7211), tensor(0.8231), tensor(0.8539), tensor(0.9274), tensor(0.0118), tensor(0.1865), tensor(0.4113), tensor(0.3006), tensor(0.0388), tensor(0.0205), tensor(0.3595), tensor(0.5351), tensor(0.9369), tensor(0.1296), tensor(0.8018), tensor(0.5242), tensor(0.1500), tensor(0.9130), tensor(0.3397), tensor(0.7896), tensor(0.4243), tensor(0.2913), tensor(0.4951), tensor(0.4410), tensor(0.0918), tensor(0.4943), tensor(0.3750), tensor(0.3694), tensor(0.1826), tensor(0.1124), tensor(0.6704), tensor(0.1625), tensor(0.8036), tensor(0.4688), tensor(0.5133), tensor(0.6762), tensor(0.9491), tensor(0.4121), tensor(0.1720), tensor(0.5785), tensor(0.8838), tensor(0.6624), tensor(0.0402), tensor(0.4721), tensor(0.7802), tensor(0.6428), tensor(0.9474), tensor(0.4574), tensor(0.7269), tensor(0.1548), tensor(0.7938), tensor(0.9377), tensor(0.9207), tensor(0.2829), tensor(0.0902), tensor(0.6185), tensor(0.3574), tensor(0.6631), tensor(0.2527), tensor(0.2881), tensor(0.8140), tensor(0.9863), tensor(0.6456), tensor(0.4024), tensor(0.4751), tensor(0.4279), tensor(0.1750), tensor(0.3247), tensor(0.8152), tensor(0.9294), tensor(0.5217), tensor(0.6053), tensor(0.5345), tensor(0.4438), tensor(0.4205), tensor(0.0916), tensor(0.9984), tensor(0.0166), tensor(0.7882), tensor(0.3656), tensor(0.6713), tensor(0.6883), tensor(0.5506), tensor(0.8151), tensor(0.6647), tensor(0.3793), tensor(0.2706), tensor(0.2369), tensor(0.0538), tensor(0.3271), tensor(0.1040), tensor(0.0237), tensor(0.4221), tensor(0.6967), tensor(0.3784), tensor(0.8769), tensor(0.2875), tensor(0.0371), tensor(0.1017), tensor(0.2332), tensor(0.7125), tensor(0.6645), tensor(0.9953), tensor(0.7177), tensor(0.5536), tensor(0.7193), tensor(0.1528), tensor(0.7030), tensor(0.9963), tensor(0.5930), tensor(0.1936), tensor(0.7516), tensor(0.9497), tensor(0.3205), tensor(0.5561), tensor(0.4637), tensor(0.7881), tensor(0.3121), tensor(0.0599), tensor(0.0607), tensor(0.5569), tensor(0.8880), tensor(0.4684), tensor(0.5037), tensor(0.5993), tensor(0.0545), tensor(0.0042), tensor(0.2071), tensor(0.5677), tensor(0.3953), tensor(0.5730), tensor(0.4901), tensor(0.0013), tensor(0.5351), tensor(0.8454), tensor(0.4553), tensor(0.6929), tensor(0.3898), tensor(0.6565), tensor(0.8346), tensor(0.7604), tensor(0.3564), tensor(0.9007), tensor(0.4779), tensor(0.1071), tensor(0.8930), tensor(0.1240), tensor(0.9330), tensor(0.6365), tensor(0.4587), tensor(0.6696), tensor(0.3408), tensor(0.6969), tensor(0.0296), tensor(0.5489), tensor(0.8680), tensor(0.3481), tensor(0.6162), tensor(0.7770), tensor(0.5719), tensor(0.7245), tensor(0.3337), tensor(0.5402), tensor(0.2906), tensor(0.3251), tensor(0.2834), tensor(0.0347), tensor(0.6350), tensor(0.8535), tensor(0.8037), tensor(0.3334), tensor(0.1498), tensor(0.2962), tensor(0.7337), tensor(0.0682), tensor(0.0532), tensor(0.5816), tensor(0.3297), tensor(0.2382), tensor(0.3478), tensor(0.2126), tensor(0.9063), tensor(0.1638), tensor(0.0297), tensor(0.1591), tensor(0.3801), tensor(0.7345), tensor(0.0789), tensor(0.4451), tensor(0.4920), tensor(0.8594), tensor(0.5964), tensor(0.9742), tensor(0.1346), tensor(0.4221), tensor(0.3709), tensor(0.5163), tensor(0.2440), tensor(0.8603), tensor(0.5942), tensor(0.4666), tensor(0.2294), tensor(0.6182), tensor(0.2173), tensor(0.2508), tensor(0.7409), tensor(0.0558), tensor(0.8509), tensor(0.7079), tensor(0.7900), tensor(0.5198), tensor(0.7338), tensor(0.6531), tensor(0.0385), tensor(0.7356), tensor(0.5547), tensor(0.2801), tensor(0.6701), tensor(0.2888), tensor(0.0715), tensor(0.1121), tensor(0.2977), tensor(0.9876), tensor(0.4616), tensor(0.0688), tensor(0.4548), tensor(0.0663), tensor(0.7874), tensor(0.9908), tensor(0.9434), tensor(0.5118), tensor(0.8684), tensor(0.3569), tensor(0.7759), tensor(0.0873), tensor(0.4428), tensor(0.4669), tensor(0.0250), tensor(0.4618), tensor(0.3126), tensor(0.9437), tensor(0.7887), tensor(0.3056), tensor(0.5479), tensor(0.1612), tensor(0.6940), tensor(0.1550), tensor(0.6949), tensor(0.8661), tensor(0.9375), tensor(0.8050), tensor(0.0900), tensor(0.9446), tensor(0.6618), tensor(0.8382), tensor(0.0012), tensor(0.2615), tensor(0.8408), tensor(0.7838), tensor(0.6894), tensor(0.2430), tensor(0.0633), tensor(0.1587), tensor(0.7090), tensor(0.1749), tensor(0.1728), tensor(0.5700), tensor(0.3036), tensor(0.6948), tensor(0.8005), tensor(0.4229), tensor(0.8785), tensor(0.5787), tensor(0.1023), tensor(0.0184), tensor(0.3268), tensor(0.2212), tensor(0.2880), tensor(0.1972), tensor(0.3179), tensor(0.2600), tensor(0.5883), tensor(0.2475), tensor(0.7007), tensor(0.3466), tensor(0.7156), tensor(0.2751), tensor(0.4006), tensor(0.8611), tensor(0.7973), tensor(0.0894), tensor(0.0889), tensor(0.2650), tensor(0.2658), tensor(0.3485), tensor(0.8544), tensor(0.6317), tensor(0.0433), tensor(0.2023), tensor(0.8930), tensor(0.2598), tensor(0.3784), tensor(0.5755), tensor(0.7955), tensor(0.5988), tensor(0.8363), tensor(0.9131), tensor(0.5342), tensor(0.3032), tensor(0.6421), tensor(0.7733), tensor(0.5581), tensor(0.7251), tensor(0.6015), tensor(0.6659), tensor(0.7072), tensor(0.1765), tensor(0.7696), tensor(0.4579), tensor(0.3804), tensor(0.1955), tensor(0.0968), tensor(0.5580), tensor(0.3234), tensor(0.6492), tensor(0.0332), tensor(0.2322), tensor(0.5467), tensor(0.4882), tensor(0.8513), tensor(0.8363), tensor(0.4111), tensor(0.7702), tensor(0.6686), tensor(0.6783), tensor(0.3326), tensor(0.8771), tensor(0.1359), tensor(0.5222), tensor(0.6605), tensor(0.3268), tensor(0.4896), tensor(0.0048), tensor(0.4377), tensor(0.9113), tensor(0.3225), tensor(0.5875), tensor(0.8600), tensor(0.2886), tensor(0.9990), tensor(0.7283), tensor(0.5655), tensor(0.1202), tensor(0.4463), tensor(0.3413), tensor(0.7112), tensor(0.0133), tensor(0.5766), tensor(0.1902), tensor(0.2098), tensor(0.4288), tensor(0.4527), tensor(0.0114), tensor(0.3847), tensor(0.9061), tensor(0.0862), tensor(0.4497), tensor(0.3200), tensor(0.2007), tensor(0.7983), tensor(0.5295), tensor(0.4904), tensor(0.6822), tensor(0.6906), tensor(0.5027), tensor(0.5886), tensor(0.5779), tensor(0.6827), tensor(0.5658), tensor(0.4790), tensor(0.2679), tensor(0.1429), tensor(0.6502), tensor(0.4019), tensor(0.3216), tensor(0.4996), tensor(0.0072), tensor(0.6064), tensor(0.8758), tensor(0.3119), tensor(0.9561), tensor(0.1741), tensor(0.1833), tensor(0.1389), tensor(0.0883), tensor(0.4556), tensor(0.4306), tensor(0.1421), tensor(0.8945), tensor(0.1325), tensor(0.0112), tensor(0.8855), tensor(0.2447), tensor(0.1984), tensor(0.5239), tensor(0.2803), tensor(0.9877), tensor(0.4653), tensor(0.6454), tensor(0.8257), tensor(0.3489), tensor(0.9651), tensor(0.2906), tensor(0.4392), tensor(0.3164), tensor(0.4449), tensor(0.0720), tensor(0.9004), tensor(0.0587)]\n"
          ]
        },
        {
          "data": {
            "text/plain": [
              "(array([58., 46., 46., 52., 55., 53., 54., 51., 49., 36.]),\n",
              " array([0.00116342, 0.10094683, 0.20073023, 0.30051363, 0.40029705,\n",
              "        0.50008047, 0.5998638 , 0.69964725, 0.79943067, 0.899214  ,\n",
              "        0.99899745], dtype=float32),\n",
              " <a list of 10 Patch objects>)"
            ]
          },
          "execution_count": 7,
          "metadata": {},
          "output_type": "execute_result"
        },
        {
          "data": {
            "image/png": "[encoded data removed]",
            "text/plain": [
              "<Figure size 432x288 with 1 Axes>"
            ]
          },
          "metadata": {},
          "output_type": "display_data"
        }
      ],
      "source": [
        "a = [i[5] for i in trainData[0][2][0:500]]\n",
        "print(a)\n",
        "plt.hist(a)"
      ]
    },
    {
      "cell_type": "code",
      "execution_count": null,
      "metadata": {
        "colab": {
          "base_uri": "https://localhost:8080/"
        },
        "id": "jXTzNuROKczY",
        "outputId": "fed465c1-e14a-430e-860a-2150635dbbdf"
      },
      "outputs": [
        {
          "data": {
            "text/plain": [
              "torch.Size([500, 7])"
            ]
          },
          "execution_count": 8,
          "metadata": {},
          "output_type": "execute_result"
        }
      ],
      "source": [
        "trainData[0][2].shape"
      ]
    },
    {
      "cell_type": "markdown",
      "metadata": {
        "id": "FOM3vBc7kRBO"
      },
      "source": [
        "### Сеть"
      ]
    },
    {
      "cell_type": "code",
      "execution_count": null,
      "metadata": {
        "id": "mUsqYbFflHu6"
      },
      "outputs": [],
      "source": [
        "baseSeq_regression = nn.Sequential(\n",
        "     nn.Linear(9, 300),\n",
        "     nn.ReLU(),\n",
        "     nn.BatchNorm1d(300),\n",
        "     nn.Linear(300, 3000),\n",
        "     nn.Dropout(0.6),\n",
        "     nn.ReLU(),\n",
        "     nn.BatchNorm1d(3000),\n",
        "     nn.Linear(3000, 6000),\n",
        "     nn.Dropout(0.6),\n",
        "     nn.ReLU(),\n",
        "     nn.BatchNorm1d(6000),\n",
        "     nn.Linear(6000, 3000),\n",
        "     nn.Dropout(0.6),\n",
        "     nn.ReLU(),\n",
        "     nn.BatchNorm1d(3000),\n",
        "     nn.Linear(3000, 1000),\n",
        "     nn.Dropout(0.6),\n",
        "     nn.ReLU(),\n",
        "     nn.BatchNorm1d(1000),\n",
        "     nn.Linear(1000, 100),\n",
        "     nn.ReLU(),\n",
        "     nn.BatchNorm1d(100)\n",
        ")"
      ]
    },
    {
      "cell_type": "code",
      "execution_count": null,
      "metadata": {
        "id": "VLfTKU2IGq23"
      },
      "outputs": [],
      "source": [
        "class GPNN_regression(nn.Module):\n",
        "    def __init__(self, Seq = baseSeq_regression,init_form = 'normal'):\n",
        "        super().__init__()\n",
        "        self.layers_stack = Seq\n",
        "        self.fc_end_T = nn.Linear(100, 7)\n",
        "        #self.fc_end_LAA = nn.Linear(70, 3)\n",
        "        #self.fc_end_LPA = nn.Linear(70, 2)\n",
        "        #self.fc_end_CAA = nn.Linear(70, 7)\n",
        "        #self.fc_end_CPA = nn.Linear(70, 1)\n",
        "        self.init_form = init_form\n",
        "        if self.init_form is not None:\n",
        "            self.init()\n",
        "\n",
        "    def forward(self, x):\n",
        "        x = self.layers_stack(x)\n",
        "        T = self.fc_end_T(x)\n",
        "        #LAA = self.fc_end_LAA(x)\n",
        "        #LPA = self.fc_end_LPA(x)\n",
        "        #CAA = self.fc_end_CAA(x)\n",
        "        #CPA = self.fc_end_CPA(x)\n",
        "\n",
        "        return T #, LAA, LPA, CAA, CPA\n",
        "        \n",
        "    def init(self):\n",
        "        relu_gain = torch.nn.init.calculate_gain(\"relu\")\n",
        "        for child in self.layers_stack.children():\n",
        "            if isinstance(child, nn.Linear):\n",
        "                if self.init_form == \"normal\":\n",
        "                    torch.nn.init.kaiming_normal_(child.weight,\n",
        "                                                 nonlinearity='relu')\n",
        "                    torch.nn.init.kaiming_normal_(self.fc_end_T.weight,\n",
        "                                                 nonlinearity='relu')\n",
        "                    \n",
        "                    if child.bias is not None:\n",
        "                        torch.nn.init.zeros_(child.bias)\n",
        "                elif self.init_form == \"uniform\":\n",
        "                    torch.nn.init.kaiming_uniform_(child.weight,\n",
        "                                                  nonlinearity='relu')\n",
        "                    torch.nn.init.kaiming_uniform_(self.fc_end_T.weight,\n",
        "                                                 nonlinearity='relu')\n",
        "                    if child.bias is not None:\n",
        "                        torch.nn.init.zeros_(child.bias)\n",
        "                else:\n",
        "                    raise NotImplementedError()\n",
        "\n"
      ]
    },
    {
      "cell_type": "markdown",
      "metadata": {
        "id": "R6pd2yLll5Ua"
      },
      "source": [
        "### Обучение"
      ]
    },
    {
      "cell_type": "code",
      "execution_count": null,
      "metadata": {
        "id": "oxTp9YgUl_io"
      },
      "outputs": [],
      "source": [
        "def trainGPNN_r(model, trainloader, testloader, device = 'cpu', num_epochs = 2, criterion = nn.MSELoss,\\\n",
        "              optimizer = optim.Adam, learning_rate = 0.001, maxBatch = 10):\n",
        "\n",
        "    criterion = criterion()\n",
        "    optimizer = optimizer(model.parameters(), lr=learning_rate)\n",
        "    num_epochs = num_epochs\n",
        "    loss_hist = []\n",
        "    loss_hist_test = []\n",
        "    acc_test_1,acc_test_2,acc_test_3,acc_test_4 = [],[],[],[]\n",
        "    acc_train_1,acc_train_2,acc_train_3,acc_train_4 = [],[],[],[]\n",
        "    for epoch in range(num_epochs):\n",
        "        hist_loss = 0\n",
        "        numBatch = 0\n",
        "\n",
        "        model.train()\n",
        "        while numBatch < maxBatch:\n",
        "            corrFunc, classVectors, values = trainloader[numBatch]\n",
        "            corrFunc, classVectors, values = corrFunc.to(device),\\\n",
        "                      classVectors.to(device), values.to(device)\n",
        "            optimizer.zero_grad()\n",
        "            predict = model(corrFunc)\n",
        "            loss = criterion(predict,values) #lossForRegression(criterion,predict,values,device)\n",
        "            #loss = lossForRegression(criterion,predict,values,device)\n",
        "            loss.backward()    \n",
        "            optimizer.step()\n",
        "            hist_loss += loss.item()\n",
        "            numBatch = numBatch + 1\n",
        "        loss_hist.append(hist_loss /len(trainloader))\n",
        "      \n",
        "        model.eval()\n",
        "        test_loss = 0\n",
        "        numBatch = 0\n",
        "        with torch.no_grad():\n",
        "          while numBatch < maxBatch:\n",
        "            corrFunc, classVectors, values = testloader[numBatch]\n",
        "            predict = model(corrFunc)\n",
        "            loss = criterion(predict,values)\n",
        "            test_loss += loss.item()\n",
        "            numBatch = numBatch + 1\n",
        "        loss_hist_test.append(test_loss/len(testloader))\n",
        "        #a,b,c,d = calaculate_accuracy_classifier(model,trainloader,device)\n",
        "        #acc_train_1.append(a);acc_train_2.append(b);acc_train_3.append(c);acc_train_4.append(d)\n",
        "        #a,b,c,d = calaculate_accuracy_classifier(model,testloader,device)\n",
        "        #acc_test_1.append(a);acc_test_2.append(b);acc_test_3.append(c);acc_test_4.append(d)\n",
        "        if epoch%10 == 0: print(f\"Epoch={epoch} loss={loss_hist[epoch]:.5f} loss_test={loss_hist_test[epoch]:.5f}\")\n",
        "    return loss_hist, loss_hist_test"
      ]
    },
    {
      "cell_type": "code",
      "execution_count": null,
      "metadata": {
        "id": "bOjW36-Qo7E4"
      },
      "outputs": [],
      "source": [
        "def lossForRegression(criterion,predict,original,device):\n",
        "  criterion = criterion\n",
        "  #подготовка к расчету loss функции, переводим данные к нужнмоу формату\n",
        "  #realT = torch.tensor([[original[0][0]]]).to(device)\n",
        "  #realLAA = torch.tensor([[original[0][0:2]]]).to(device)\n",
        "  #realLPA = torch.tensor([[original[0][3:4]]]).to(device)\n",
        "  loss_1 = []\n",
        "  for i in original:\n",
        "     loss_1.append([i[0].item(),i[1].item(),i[2].item(),i[3].item(),i[4].item(),i[5].item(),i[6].item()])\n",
        " \n",
        "  loss_1= torch.tensor(loss_1).to(device)\n",
        "\n",
        "  total_loss = criterion(predict[3],loss_1)# + criterion(predict[2],realLPA) #criterion(predict[0],loss_1)+2.*criterion(predict[1],loss_2)\n",
        "  return total_loss\n"
      ]
    },
    {
      "cell_type": "markdown",
      "metadata": {
        "id": "L5cskVtbkVsg"
      },
      "source": [
        "### Запуск Сети"
      ]
    },
    {
      "cell_type": "code",
      "execution_count": null,
      "metadata": {
        "colab": {
          "base_uri": "https://localhost:8080/"
        },
        "id": "ZMu67u1c_4Qo",
        "outputId": "6adca95e-6a5c-4b5a-9738-a9ee84294106"
      },
      "outputs": [
        {
          "output_type": "stream",
          "name": "stdout",
          "text": [
            "Epoch=0 loss=0.10903 loss_test=0.08464\n",
            "Epoch=10 loss=0.08187 loss_test=8.85782\n",
            "Epoch=20 loss=0.07997 loss_test=10.77548\n",
            "Epoch=30 loss=0.08017 loss_test=6693574.13058\n",
            "Duration: 230.4968831539154\n"
          ]
        }
      ],
      "source": [
        "manual_seed(42)\n",
        "random.seed(42)\n",
        "np.random.seed(42)\n",
        "\n",
        "model = GPNN_regression(init_form = 'uniform').to(device)\n",
        "model = model.float()\n",
        "time_0 = time.time()\n",
        "criterion = nn.L1Loss\n",
        "loss, loss_test = trainGPNN_r(model,trainData,\\\n",
        "                       testData, criterion = criterion, num_epochs =31, learning_rate = 0.001, device = device, maxBatch = 500)\n",
        "print(\"Duration:\", time.time()-time_0)"
      ]
    },
    {
      "cell_type": "code",
      "execution_count": null,
      "metadata": {
        "colab": {
          "base_uri": "https://localhost:8080/",
          "height": 283
        },
        "id": "IiomoFy2iJTd",
        "outputId": "9d2a2108-0802-4d7b-add5-6dee3758b769"
      },
      "outputs": [
        {
          "output_type": "execute_result",
          "data": {
            "text/plain": [
              "[<matplotlib.lines.Line2D at 0x7f1efa5dacd0>]"
            ]
          },
          "metadata": {},
          "execution_count": 31
        },
        {
          "output_type": "display_data",
          "data": {
            "text/plain": [
              "<Figure size 432x288 with 1 Axes>"
            ],
            "image/png": "[encoded data removed]"
          },
          "metadata": {
            "needs_background": "light"
          }
        }
      ],
      "source": [
        "plt.plot(loss)\n",
        "plt.plot(loss_test)"
      ]
    },
    {
      "cell_type": "code",
      "execution_count": null,
      "metadata": {
        "colab": {
          "base_uri": "https://localhost:8080/"
        },
        "id": "emGA4Vgetxrn",
        "outputId": "ad0a24db-c495-4ee8-fdb7-18f82aad800d"
      },
      "outputs": [
        {
          "output_type": "execute_result",
          "data": {
            "text/plain": [
              "tensor([[0.1405, 0.7713, 0.4339, 0.2567, 0.0629, 0.2254, 0.9940],\n",
              "        [0.8633, 0.7021, 0.6677, 0.8090, 0.5382, 0.2764, 0.4892],\n",
              "        [0.6472, 0.4815, 0.3239, 0.0634, 0.1337, 0.1532, 0.9611],\n",
              "        [0.2831, 0.6259, 0.7264, 0.3928, 0.0535, 0.3101, 0.9198],\n",
              "        [0.8876, 0.5130, 0.8597, 0.2498, 0.2677, 0.7376, 0.3520],\n",
              "        [0.7150, 0.6076, 0.2445, 0.7029, 0.5920, 0.3586, 0.7419],\n",
              "        [0.3450, 0.4692, 0.5850, 0.0096, 0.3494, 0.9763, 0.6097],\n",
              "        [0.7488, 0.9635, 0.4245, 0.8069, 0.0397, 0.2295, 0.6808],\n",
              "        [0.7212, 0.4971, 0.8144, 0.8714, 0.4709, 0.6147, 0.0857],\n",
              "        [0.3476, 0.5391, 0.9834, 0.3363, 0.5311, 0.1544, 0.1864]],\n",
              "       device='cuda:0')"
            ]
          },
          "metadata": {},
          "execution_count": 32
        }
      ],
      "source": [
        "trainData[0][2][10:20]"
      ]
    },
    {
      "cell_type": "code",
      "execution_count": null,
      "metadata": {
        "colab": {
          "base_uri": "https://localhost:8080/"
        },
        "id": "PBUpJVWdQ_Rv",
        "outputId": "8871297d-8fdb-4432-d1f8-a24103f2d560"
      },
      "outputs": [
        {
          "name": "stdout",
          "output_type": "stream",
          "text": [
            "[tensor(0.7487, device='cuda:0'), tensor(0.3286, device='cuda:0'), tensor(0.8350, device='cuda:0'), tensor(0.1008, device='cuda:0'), tensor(0.5627, device='cuda:0'), tensor(0.5886, device='cuda:0'), tensor(0.1412, device='cuda:0'), tensor(0.2614, device='cuda:0'), tensor(0.4792, device='cuda:0'), tensor(0.9560, device='cuda:0')]\n"
          ]
        }
      ],
      "source": [
        "a = [i[4] for i in testData[0][2][0:10]]\n",
        "print(a)"
      ]
    },
    {
      "cell_type": "code",
      "execution_count": null,
      "metadata": {
        "id": "YiIrYCpkQIU0"
      },
      "outputs": [],
      "source": [
        "a = [i[1] for i in trainData[0][2][0:500].to('cpu')]\n",
        "print(a)\n",
        "plt.hist(a)"
      ]
    },
    {
      "cell_type": "code",
      "execution_count": null,
      "metadata": {
        "colab": {
          "base_uri": "https://localhost:8080/"
        },
        "id": "KEz5S7Q2uAXO",
        "outputId": "ce76a208-99dc-4641-c0dc-2baae5425b5a"
      },
      "outputs": [
        {
          "output_type": "execute_result",
          "data": {
            "text/plain": [
              "tensor([[0.7791, 0.4976, 0.4167, 0.4918, 0.4962, 0.7028, 0.5582],\n",
              "        [0.8443, 0.4941, 0.2740, 0.4990, 0.4915, 0.9123, 0.5001],\n",
              "        [0.6278, 0.4931, 0.0903, 0.4983, 0.5032, 0.7217, 0.5489],\n",
              "        [0.4289, 0.4945, 0.6814, 0.4992, 0.4964, 0.5631, 0.4910],\n",
              "        [0.6845, 0.4969, 0.6728, 0.4903, 0.4957, 0.5290, 0.5889],\n",
              "        [0.8779, 0.4920, 0.3970, 0.4986, 0.4953, 0.2550, 0.5564],\n",
              "        [0.1555, 0.4945, 0.5253, 0.5092, 0.5101, 0.2227, 0.4889],\n",
              "        [0.6155, 0.4956, 0.3540, 0.4976, 0.4980, 0.6638, 0.5292],\n",
              "        [0.2074, 0.4985, 0.7126, 0.5040, 0.5012, 0.4380, 0.5723],\n",
              "        [0.8839, 0.4967, 0.5932, 0.4910, 0.4878, 0.7217, 0.5032]],\n",
              "       device='cuda:0', grad_fn=<SliceBackward0>)"
            ]
          },
          "metadata": {},
          "execution_count": 33
        }
      ],
      "source": [
        "model.eval()\n",
        "model(testData[0][0].to(device))[10:20]"
      ]
    },
    {
      "cell_type": "code",
      "execution_count": null,
      "metadata": {
        "id": "SnA9zf5M48fT"
      },
      "outputs": [],
      "source": [
        "#model(testData[0][0].to(device))[0]\n",
        "testData[0][2][:,0]"
      ]
    },
    {
      "cell_type": "code",
      "execution_count": null,
      "metadata": {
        "colab": {
          "base_uri": "https://localhost:8080/"
        },
        "id": "hk16mq5gRkDU",
        "outputId": "89739d6b-c499-4935-f625-94053c999601"
      },
      "outputs": [
        {
          "output_type": "stream",
          "name": "stdout",
          "text": [
            "(0.018815196894109248, 0.25213289028406144, 0.037724027764052155, 0.25453245274722575, 0.25043616072833536, 0.028745856078341604, 0.25524666768312454)\n",
            "(0.018793363492935897, 0.25208011412620546, 0.03771904239431024, 0.2549823703020811, 0.24985801960527898, 0.028639005539938808, 0.2544622203707695)\n"
          ]
        }
      ],
      "source": [
        "def calaculate_accuracy_regression(model,data,device):\n",
        "  total_1, total_2 = 0., 0.\n",
        "  total_3, total_4 = 0., 0.\n",
        "  total_5,total_6,total_7= 0.0, 0.0, 0.0\n",
        "  numBatch = 0\n",
        "  model.eval()\n",
        "  while numBatch < len(data):\n",
        "    corrFunc, _, values = data[numBatch]\n",
        "    numBatch = numBatch + 1\n",
        "    corrFunc, values = corrFunc.to(device), values.to(device)\n",
        "    total_1 = total_1 + (abs(model(corrFunc)[:,0]-values[:,0])).mean().item()\n",
        "    total_2 = total_2 + (abs(model(corrFunc)[:,1]-values[:,1])).mean().item()\n",
        "    total_3 = total_3 + (abs(model(corrFunc)[:,2]-values[:,2])).mean().item()\n",
        "    total_4 = total_4 + (abs(model(corrFunc)[:,3]-values[:,3])).mean().item()\n",
        "    total_5 = total_5 + (abs(model(corrFunc)[:,4]-values[:,4])).mean().item()\n",
        "    total_6 = total_6 + (abs(model(corrFunc)[:,5]-values[:,5])).mean().item()\n",
        "    total_7 = total_7 + (abs(model(corrFunc)[:,6]-values[:,6])).mean().item()\n",
        "\n",
        "  return total_1/len(data),total_2/len(data),total_3/len(data),total_4/len(data),total_5/len(data),total_6/len(data),total_7/len(data)\n",
        "\n",
        "\n",
        "print(calaculate_accuracy_regression(model,testData,device))\n",
        "print(calaculate_accuracy_regression(model,trainData,device))\n",
        "\n"
      ]
    },
    {
      "cell_type": "code",
      "execution_count": null,
      "metadata": {
        "id": "lXDKi-qAsY6o"
      },
      "outputs": [],
      "source": [
        "testV = trainData[0][2].to(device)\n",
        "(abs(model(trainData[0][0])[:,0]-testV[:,0])**2).mean().item()"
      ]
    },
    {
      "cell_type": "markdown",
      "metadata": {
        "id": "L8RBxXIokAYe"
      },
      "source": [
        "### Для визуализации"
      ]
    },
    {
      "cell_type": "code",
      "execution_count": null,
      "metadata": {
        "id": "IQaiLxKmkED6"
      },
      "outputs": [],
      "source": [
        "import matplotlib.pyplot as plt\n",
        "import numpy as np\n",
        "\n",
        "def plot_history(history, n_epochs=5, smooth_val=0.90):\n",
        "    fig, ax =  plt.subplots(3, 1, figsize=(12, 14))\n",
        "    for stage_idx, (stage_lbl, stage_title) in enumerate(\n",
        "        zip(['loss_on_train', 'loss_on_test'],\n",
        "            ['train loss', 'test loss'])):\n",
        "        # plot history on each learning step\n",
        "        epoch_len = len(history[stage_lbl])//n_epochs\n",
        "        full_stage_len = len(history[stage_lbl])\n",
        "        ax[stage_idx].plot(exponential_smoothing(history[stage_lbl], smooth_val),\n",
        "                           label='smoothed',\n",
        "                           color='m')\n",
        "        ax[stage_idx].plot(history[stage_lbl],\n",
        "                           label='raw',\n",
        "                           alpha=0.2,\n",
        "                           color='c')\n",
        "        ax[stage_idx].set_title(stage_title)\n",
        "        ax[stage_idx].set_xlabel('epochs')\n",
        "        ax[stage_idx].set_ylabel('loss')\n",
        "        epochs_ticks_positions = np.arange(stop=full_stage_len+1,\n",
        "                                           step=epoch_len)\n",
        "        ax[stage_idx].set_xticks(epochs_ticks_positions)\n",
        "        ax[stage_idx].set_xticklabels(np.arange(n_epochs+1))\n",
        "        ax[stage_idx].legend()\n",
        "\n",
        "        # plot mean train and test loss combined\n",
        "        mean_loss_on_epoch = [np.mean(history[stage_lbl][i:i+epoch_len]) \\\n",
        "                              for i in range(0, full_stage_len, epoch_len)]\n",
        "        std_loss_on_epoch = [np.std(history[stage_lbl][i:i+epoch_len]) \\\n",
        "                              for i in range(0, full_stage_len, epoch_len)]\n",
        "\n",
        "        ax[2].set_title('\\nAverage loss per epoch')\n",
        "        ax[2].errorbar(np.arange(n_epochs) + stage_idx / 30.,\n",
        "                       mean_loss_on_epoch,\n",
        "                       yerr=std_loss_on_epoch,\n",
        "                       capsize=5,\n",
        "                       fmt=\"X--\",\n",
        "                       label=stage_title)\n",
        "        ax[2].set_xticks(np.arange(5))\n",
        "        ax[2].set_xticklabels(np.arange(5))\n",
        "        ax[2].set_xlabel('epochs')\n",
        "        ax[2].set_ylabel('loss')\n",
        "        ax[2].legend()\n",
        "\n",
        "    fig.suptitle(history['model_name'], fontsize=24)\n",
        "    plt.show()"
      ]
    },
    {
      "cell_type": "code",
      "execution_count": null,
      "metadata": {
        "id": "U8J4bsii3ZIf"
      },
      "outputs": [],
      "source": []
    }
  ],
  "metadata": {
    "accelerator": "GPU",
    "colab": {
      "collapsed_sections": [
        "L8RBxXIokAYe"
      ],
      "provenance": []
    },
    "gpuClass": "premium",
    "kernelspec": {
      "display_name": "Python 3",
      "name": "python3"
    },
    "language_info": {
      "name": "python"
    }
  },
  "nbformat": 4,
  "nbformat_minor": 0
}