{
  "nbformat": 4,
  "nbformat_minor": 0,
  "metadata": {
    "colab": {
      "provenance": [],
      "collapsed_sections": [
        "9xLDGWGgSW5W",
        "COBLKTOIa5nh",
        "HHgjtYvcmwVI"
      ],
      "authorship_tag": "ABX9TyM5konTALGVDGaHj+FRWAS4",
      "include_colab_link": true
    },
    "kernelspec": {
      "name": "python3",
      "display_name": "Python 3"
    },
    "language_info": {
      "name": "python"
    },
    "gpuClass": "premium",
    "accelerator": "GPU"
  },
  "cells": [
    {
      "cell_type": "markdown",
      "metadata": {
        "id": "view-in-github",
        "colab_type": "text"
      },
      "source": [
        "<a href=\"https://colab.research.google.com/github/AgapovDP/inverse-problem-of-GP/blob/main/GPNN_full_Solution.ipynb\" target=\"_parent\"><img src=\"https://colab.research.google.com/assets/colab-badge.svg\" alt=\"Open In Colab\"/></a>"
      ]
    },
    {
      "cell_type": "markdown",
      "source": [
        "## Подготовка к запуску"
      ],
      "metadata": {
        "id": "9xLDGWGgSW5W"
      }
    },
    {
      "cell_type": "code",
      "execution_count": 1,
      "metadata": {
        "id": "N7A5mMa1Id6T"
      },
      "outputs": [],
      "source": [
        "import numpy as np\n",
        "import random \n",
        "import matplotlib.pyplot as plt\n",
        "from torch import nn,manual_seed,from_numpy, split, tensor\n",
        "import torch.optim as optim\n",
        "import torch\n",
        "import time\n",
        "import os\n",
        "from torch.utils.data import Dataset\n",
        "from torch.utils.data import DataLoader\n",
        "from tqdm import tqdm\n",
        "import torch.nn.functional as F\n",
        "\n",
        "def set_random_seed(seed):\n",
        "    torch.backends.cudnn.deterministic = True\n",
        "    torch.manual_seed(seed)\n",
        "    torch.cuda.manual_seed(seed)\n",
        "    np.random.seed(seed)\n",
        "    random.seed(seed)\n",
        "    os.environ[\"PYTHONHASHSEED\"] = str(seed)\n",
        "\n",
        "\n",
        "set_random_seed(42)"
      ]
    },
    {
      "cell_type": "code",
      "source": [
        "from google.colab import drive\n",
        "drive.mount('/content/gdrive')\n"
      ],
      "metadata": {
        "colab": {
          "base_uri": "https://localhost:8080/"
        },
        "id": "Y27FW1p1SHsy",
        "outputId": "8b27aca8-f76c-4861-961a-3729b9365efc"
      },
      "execution_count": 2,
      "outputs": [
        {
          "output_type": "stream",
          "name": "stdout",
          "text": [
            "Mounted at /content/gdrive\n"
          ]
        }
      ]
    },
    {
      "cell_type": "markdown",
      "source": [
        "## Загрузка данных"
      ],
      "metadata": {
        "id": "AiRikGORSg58"
      }
    },
    {
      "cell_type": "code",
      "source": [
        "DataNPY = np.load(\"/content/gdrive/MyDrive/Data_art_NN/Datasets/datasetChoiseClass_700000_[13Feb2023].npy\",allow_pickle=True)"
      ],
      "metadata": {
        "id": "Q_-ZKKN5SKx5"
      },
      "execution_count": 3,
      "outputs": []
    },
    {
      "cell_type": "code",
      "source": [
        "class GPDataset(Dataset):\n",
        "    def __init__(self, GPdata):\n",
        "      self.nanToken = 10.\n",
        "      self.GPdata = []\n",
        "      for obj in tqdm(GPdata):\n",
        "        self.GPdata.append((tensor(obj[0]),tensor(obj[1]),tensor(obj[2])))\n",
        "    \n",
        "    def __len__(self):\n",
        "      return len(self.GPdata)\n",
        "\n",
        "    def __getitem__(self, idx):\n",
        "      return self.GPdata[idx][0],self.GPdata[idx][1],self.GPdata[idx][2]\n",
        "\n",
        "\n"
      ],
      "metadata": {
        "id": "DeeD8n9UeZHA"
      },
      "execution_count": 4,
      "outputs": []
    },
    {
      "cell_type": "code",
      "source": [
        "\n",
        "# Длина обучающей и тестирующей выборок\n",
        "lenTestData = 100000\n",
        "lenTrainData = 700000\n",
        "batch_size = 1000\n",
        "\n",
        "testDatasets = GPDataset(DataNPY[:lenTestData])\n",
        "trainDatasets = GPDataset(DataNPY[lenTestData:lenTrainData])\n",
        "\n",
        "testDataloader = DataLoader(testDatasets, batch_size=batch_size, shuffle=False, num_workers=2)\n",
        "trainDataloader = DataLoader(trainDatasets, batch_size=batch_size, shuffle=True, num_workers=2)"
      ],
      "metadata": {
        "colab": {
          "base_uri": "https://localhost:8080/"
        },
        "id": "vI1U9-bhSlbW",
        "outputId": "049fe10b-07f7-43f5-ba97-edb365788107"
      },
      "execution_count": 5,
      "outputs": [
        {
          "output_type": "stream",
          "name": "stderr",
          "text": [
            "100%|██████████| 100000/100000 [00:02<00:00, 43993.54it/s]\n",
            "100%|██████████| 600000/600000 [00:13<00:00, 43722.65it/s]\n"
          ]
        }
      ]
    },
    {
      "cell_type": "markdown",
      "source": [
        "## Структура модели"
      ],
      "metadata": {
        "id": "iuZLZX4MTIs4"
      }
    },
    {
      "cell_type": "code",
      "source": [
        "\n",
        "# Функция для создания Sequential для выходов\n",
        "def outputLaeyrs(otput, lenOfFirstLayer = 700,lenOfSecondLayer = 70, nonlinearity = nn.ReLU, mod = 'classifier'):\n",
        "  seq = nn.Sequential(nn.Linear(lenOfFirstLayer, lenOfSecondLayer, bias=False),\n",
        "                      nonlinearity(),\n",
        "                      nn.BatchNorm1d(lenOfSecondLayer),\n",
        "                      nn.Linear(lenOfSecondLayer, otput))\n",
        "  if mod == 'classifier':\n",
        "    seq.append(nn.Sigmoid())\n",
        "  return seq\n",
        "\n",
        "\n",
        "\n",
        "# Последовательность для первичной обработки (фактически это embedding)\n",
        "embSeq_base = nn.Sequential(\n",
        "     nn.Linear(5, 200, bias=False),\n",
        "     nn.ReLU(),\n",
        "     nn.BatchNorm1d(200),\n",
        "     nn.Linear(200, 2000, bias=False),\n",
        "     nn.ReLU(),\n",
        "     nn.BatchNorm1d(2000),\n",
        "     nn.Linear(2000, 4000, bias=False),\n",
        "     nn.ReLU(),\n",
        "     nn.BatchNorm1d(4000),\n",
        "     nn.Linear(4000, 700, bias=False),\n",
        "     nn.ReLU(),\n",
        "     nn.BatchNorm1d(700)\n",
        ")\n",
        "\n",
        "\n",
        "regrSeq_base = nn.Sequential(\n",
        "     nn.Linear(700, 1500, bias=False),\n",
        "     nn.ReLU(),\n",
        "     nn.BatchNorm1d(1500),\n",
        "     nn.Linear(1500, 700, bias=False),\n",
        "     nn.ReLU(),\n",
        "     nn.BatchNorm1d(700)\n",
        ")\n"
      ],
      "metadata": {
        "id": "SAlwVMKRZcIG"
      },
      "execution_count": 6,
      "outputs": []
    },
    {
      "cell_type": "code",
      "source": [
        "class GPNN_v1(nn.Module):\n",
        "  def __init__(self, SeqEmbedding = embSeq_base, SeqRegression = regrSeq_base, init_form = \"normal\"):\n",
        "    super().__init__()\n",
        "    self.embedding_stack = SeqEmbedding\n",
        "    self.regression_stack = SeqRegression\n",
        "\n",
        "    self.classifierLAA = outputLaeyrs(1); self.classifierLPA = outputLaeyrs(1)\n",
        "    self.classifierCAA = outputLaeyrs(1); self.classifierCPA = outputLaeyrs(1)\n",
        "    \n",
        "    #self.regressionT = outputLaeyrs(1, mod = 0)\n",
        "    self.regressionP = outputLaeyrs(1, mod = 0)\n",
        "    self.regressionTheta = outputLaeyrs(1, mod = 0) \n",
        "    self.regressionDelta = outputLaeyrs(1, mod = 0)\n",
        "    self.regressionPhi = outputLaeyrs(1, mod = 0)\n",
        "    self.regressionCAA = outputLaeyrs(1, mod = 0)\n",
        "    self.regressionCPA = outputLaeyrs(1, mod = 0)\n",
        "\n",
        "    self.init_form = init_form\n",
        "    if self.init_form is not None:\n",
        "      self.init()\n",
        "            \n",
        "\n",
        "  def forward(self, x, mod = 'NoTrain', classVectors = np.nan):\n",
        "    emb = self.embedding_stack(x)\n",
        "    if mod == 'classifier':\n",
        "      return self.classifierLAA(emb),self.classifierLPA(emb),\\\n",
        "            self.classifierCAA(emb),self.classifierCPA(emb)\n",
        "\n",
        "    if mod == 'regression':\n",
        "      outReg = self.regression_stack(emb)\n",
        "      return self.regressionP(outReg),self.regressionTheta(outReg),self.regressionDelta(outReg),\\\n",
        "              self.regressionPhi(outReg), self.regressionCAA(outReg), self.regressionCPA(outReg)\n",
        "\n",
        "    if mod == 'NoTrain':\n",
        "      outReg = self.regression_stack(emb)\n",
        "      return self.classifierLAA(emb),self.classifierLPA(emb), self.classifierCAA(emb),\\\n",
        "        self.classifierCPA(emb), self.regressionP(outReg),\\\n",
        "          self.regressionTheta(outReg), self.regressionDelta(outReg), self.regressionPhi(outReg),\\\n",
        "            self.regressionCAA(outReg), self.regressionCPA(outReg)\n",
        "\n",
        "\n",
        "  \n",
        "  def init(self):\n",
        "    relu_gain = torch.nn.init.calculate_gain(\"relu\")\n",
        "    for child in self.embedding_stack.children():\n",
        "      if isinstance(child, nn.Linear):\n",
        "        if self.init_form == \"normal\":\n",
        "          torch.nn.init.kaiming_normal_(child.weight, nonlinearity='relu')\n",
        "          if child.bias is not None: torch.nn.init.zeros_(child.bias)\n",
        "        elif self.init_form == \"uniform\":\n",
        "          torch.nn.init.kaiming_uniform_(child.weight,nonlinearity='relu')\n",
        "          if child.bias is not None:torch.nn.init.zeros_(child.bias)\n",
        "        else:\n",
        "          raise NotImplementedError()\n",
        "\n",
        "    for child in self.regression_stack.children():\n",
        "      if isinstance(child, nn.Linear):\n",
        "        if self.init_form == \"normal\":\n",
        "          torch.nn.init.kaiming_normal_(child.weight, nonlinearity='relu')\n",
        "          if child.bias is not None: torch.nn.init.zeros_(child.bias)\n",
        "        elif self.init_form == \"uniform\":\n",
        "          torch.nn.init.kaiming_uniform_(child.weight,nonlinearity='relu')\n",
        "          if child.bias is not None:torch.nn.init.zeros_(child.bias)\n",
        "        else:\n",
        "          raise NotImplementedError()"
      ],
      "metadata": {
        "id": "ZGBwXuBJTuC4"
      },
      "execution_count": 7,
      "outputs": []
    },
    {
      "cell_type": "markdown",
      "source": [
        "## Функции для обучения"
      ],
      "metadata": {
        "id": "COBLKTOIa5nh"
      }
    },
    {
      "cell_type": "code",
      "source": [
        "def lossClassifierGP(criterion,predict,original):\n",
        "  criterion = criterion()\n",
        "  total_loss = criterion(predict[0],original[:,0].reshape(-1,1))+criterion(predict[1],original[:,1].reshape(-1,1))+\\\n",
        "  criterion(predict[2],original[:,2].reshape(-1,1))+criterion(predict[3],original[:,3].reshape(-1,1))\n",
        "  return total_loss"
      ],
      "metadata": {
        "id": "7Tf_KfhOa9h_"
      },
      "execution_count": 8,
      "outputs": []
    },
    {
      "cell_type": "code",
      "source": [
        "def accClassifierGP(model,localData,device):\n",
        "  accLAA,accLPA,accCAA,accCPA =0.,0.,0.,0.\n",
        "  model.eval()\n",
        "  with torch.no_grad():\n",
        "    for corrFunc, classVectors, _ in localData:\n",
        "      corrFunc, classVectors = corrFunc.to(device), classVectors.to(device)\n",
        "      predict = model(corrFunc,mod = 'classifier')\n",
        "      accLAA = accLAA + (predict[0].reshape(-1).detach().round() == classVectors[:,0].detach().round()).to('cpu').numpy().mean()\n",
        "      accLPA = accLPA + (predict[1].reshape(-1).detach().round() == classVectors[:,1].detach().round()).to('cpu').numpy().mean()\n",
        "      accCAA = accCAA + (predict[2].reshape(-1).detach().round() == classVectors[:,2].detach().round()).to('cpu').numpy().mean()\n",
        "      accCPA = accCPA + (predict[3].reshape(-1).detach().round() == classVectors[:,3].detach().round()).to('cpu').numpy().mean()\n",
        "\n",
        "  localLen = len(localData)\n",
        "  return accLAA/localLen,accLPA/localLen,accCAA/localLen,accCPA/localLen"
      ],
      "metadata": {
        "id": "P2di4svigoeO"
      },
      "execution_count": 9,
      "outputs": []
    },
    {
      "cell_type": "code",
      "source": [
        "def trainGPNNClassifier(model, trainloader,testloader,device = 'cpu', num_epochs = 2, criterion = nn.BCELoss,\\\n",
        "              optimizer = optim.Adam,learning_rate = 0.001):\n",
        "\n",
        "    \n",
        "    optimizer = optimizer(model.parameters(), lr=learning_rate)\n",
        "    num_epochs = num_epochs\n",
        "    loss_hist_train = [] # for plotting\n",
        "    loss_hist_test = []\n",
        "    accTrainLAA,accTrainLPA,accTrainCAA,accTrainCPA = [],[],[],[]\n",
        "    accTestLAA,accTestLPA,accTestCAA,accTestCPA = [],[],[],[]\n",
        "\n",
        "    for epoch in tqdm(range(num_epochs)):\n",
        "        # Обучение\n",
        "\n",
        "        hist_loss = 0\n",
        "        model.train()\n",
        "        for corrFunc, classVectors, _ in trainloader:\n",
        "            classVectors = classVectors.float()\n",
        "            corrFunc, classVectors = corrFunc.to(device), classVectors.to(device)\n",
        "            optimizer.zero_grad()\n",
        "            loss = lossClassifierGP(criterion, model(corrFunc,mod = 'classifier'), classVectors)\n",
        "            loss.backward()    \n",
        "            optimizer.step()\n",
        "            hist_loss += loss.item()\n",
        "        loss_hist_train.append(hist_loss /len(trainloader))\n",
        "\n",
        "        \n",
        "        \n",
        "        accLAA,accLPA,accCAA,accCPA = accClassifierGP(model,trainloader,device)\n",
        "        accTrainLAA.append(accLAA);accTrainLPA.append(accLPA)\n",
        "        accTrainCAA.append(accCAA);accTrainCPA.append(accCPA)\n",
        "\n",
        "\n",
        "        # Проверка на тестовых данных\n",
        "        model.eval()\n",
        "        test_loss = 0\n",
        "        numBatch = 0\n",
        "        with torch.no_grad():\n",
        "          for corrFunc, classVectors, _ in testloader:\n",
        "            classVectors = classVectors.float()\n",
        "            corrFunc, classVectors = corrFunc.to(device), classVectors.to(device)\n",
        "            loss = lossClassifierGP(criterion, model(corrFunc,mod = 'classifier'), classVectors)\n",
        "            test_loss += loss.item()\n",
        "        loss_hist_test.append(test_loss/len(testloader))\n",
        "        \n",
        "        accLAA,accLPA,accCAA,accCPA = accClassifierGP(model,testloader,device)\n",
        "        accTestLAA.append(accLAA);accTestLPA.append(accLPA)\n",
        "        accTestCAA.append(accCAA);accTestCPA.append(accCPA)\n",
        "\n",
        "        \n",
        "        if epoch%9 == 0: print(f\"Epoch={epoch} loss_train={loss_hist_train[epoch]:.5f} loss_test={loss_hist_test[epoch]:.5f}\")\n",
        "    \n",
        "    return loss_hist_train,loss_hist_test,\\\n",
        "      [accTrainLAA,accTrainLPA,accTrainCAA,accTrainCPA],[accTestLAA,accTestLPA,accTestCAA,accTestCPA]"
      ],
      "metadata": {
        "id": "Uly8fH-qbFzx"
      },
      "execution_count": 10,
      "outputs": []
    },
    {
      "cell_type": "code",
      "source": [
        "def accRegressor(model,localData,device):\n",
        "  loss_P, loss_Theta = 0., 0.\n",
        "  loss_Delta, loss_Phi  = 0., 0.\n",
        "  loss_CAA, loss_CPA = 0.,0.\n",
        "  #loss_T = 0.\n",
        "\n",
        "  model.eval()\n",
        "  with torch.no_grad():\n",
        "    for corrFunc, _, parameters in localData:\n",
        "      corrFunc, parameters = corrFunc.to(device), parameters.to(device)\n",
        "      predict = model(corrFunc, mod = 'regression')\n",
        "\n",
        "      #loss_T = loss_T + (abs(predict[0]-parameters[:,0])).mean().item()\n",
        "\n",
        "      predP = predict[0][~torch.any(torch.unsqueeze(parameters[:,0],1).isnan(),dim=1)]\n",
        "      paramP = torch.unsqueeze(parameters[:,0],1)[~torch.any(torch.unsqueeze(parameters[:,0],1).isnan(),dim=1)]\n",
        "      loss_P = loss_P + abs(predP-paramP).mean().item()\n",
        "\n",
        "      predTheta = predict[1][~torch.any(torch.unsqueeze(parameters[:,1],1).isnan(),dim=1)]\n",
        "      paramTheta  = torch.unsqueeze(parameters[:,1],1)[~torch.any(torch.unsqueeze(parameters[:,1],1).isnan(),dim=1)]\n",
        "      loss_Theta = loss_Theta + abs(predTheta-paramTheta).mean().item()\n",
        "\n",
        "      predDelta = predict[2][~torch.any(torch.unsqueeze(parameters[:,2],1).isnan(),dim=1)]\n",
        "      paramDelta = torch.unsqueeze(parameters[:,2],1)[~torch.any(torch.unsqueeze(parameters[:,2],1).isnan(),dim=1)]\n",
        "      loss_Delta = loss_Delta + abs(predDelta-paramDelta).mean().item()\n",
        "\n",
        "      predPhi = predict[3][~torch.any(torch.unsqueeze(parameters[:,3],1).isnan(),dim=1)]\n",
        "      paramPhi = torch.unsqueeze(parameters[:,3],1)[~torch.any(torch.unsqueeze(parameters[:,3],1).isnan(),dim=1)]\n",
        "      loss_Phi = loss_Phi + abs(predPhi-paramPhi).mean().item()\n",
        "\n",
        "      predCAA = predict[4][~torch.any(torch.unsqueeze(parameters[:,4],1).isnan(),dim=1)].to(device)\n",
        "      paramCAA = torch.unsqueeze(parameters[:,4],1)[~torch.any(torch.unsqueeze(parameters[:,4],1).isnan(),dim=1)].to(device)\n",
        "\n",
        "      loss_CAA = loss_CAA + (abs(predCAA-paramCAA)).mean().item()\n",
        "\n",
        "\n",
        "      predCPA = predict[5][~torch.any(torch.unsqueeze(parameters[:,5],1).isnan(),dim=1)].to(device)\n",
        "      paramCPA = torch.unsqueeze(parameters[:,5],1)[~torch.any(torch.unsqueeze(parameters[:,5],1).isnan(),dim=1)].to(device)\n",
        "\n",
        "      loss_CPA = loss_CPA + (abs(predCPA-paramCPA)).mean().item()\n",
        "    \n",
        "  return loss_P/len(parameters),loss_Theta/len(parameters),loss_Delta/len(parameters),loss_Phi/len(parameters),\\\n",
        "        loss_CAA/len(parameters),loss_CPA/len(parameters)"
      ],
      "metadata": {
        "id": "62MnI6l-YGgb"
      },
      "execution_count": 11,
      "outputs": []
    },
    {
      "cell_type": "code",
      "source": [
        "def lossRegressionGP(criterion,predict,parameters):\n",
        "  criterion = criterion()\n",
        "\n",
        "  predP = predict[0][~torch.any(torch.unsqueeze(parameters[:,0],1).isnan(),dim=1)]\n",
        "  paramP = torch.unsqueeze(parameters[:,0],1)[~torch.any(torch.unsqueeze(parameters[:,0],1).isnan(),dim=1)]\n",
        "\n",
        "  predTheta = predict[1][~torch.any(torch.unsqueeze(parameters[:,1],1).isnan(),dim=1)]\n",
        "  paramTheta  = torch.unsqueeze(parameters[:,1],1)[~torch.any(torch.unsqueeze(parameters[:,1],1).isnan(),dim=1)]\n",
        "  \n",
        "  predDelta = predict[2][~torch.any(torch.unsqueeze(parameters[:,2],1).isnan(),dim=1)]\n",
        "  paramPDelta = torch.unsqueeze(parameters[:,2],1)[~torch.any(torch.unsqueeze(parameters[:,2],1).isnan(),dim=1)]\n",
        "\n",
        "  predPhi = predict[3][~torch.any(torch.unsqueeze(parameters[:,3],1).isnan(),dim=1)]\n",
        "  paramPhi = torch.unsqueeze(parameters[:,3],1)[~torch.any(torch.unsqueeze(parameters[:,3],1).isnan(),dim=1)]\n",
        "\n",
        "  predCAA = predict[4][~torch.any(torch.unsqueeze(parameters[:,4],1).isnan(),dim=1)]\n",
        "  paramCAA = torch.unsqueeze(parameters[:,4],1)[~torch.any(torch.unsqueeze(parameters[:,4],1).isnan(),dim=1)]\n",
        "\n",
        "  predCPA = predict[5][~torch.any(torch.unsqueeze(parameters[:,5],1).isnan(),dim=1)]\n",
        "  paramCPA = torch.unsqueeze(parameters[:,5],1)[~torch.any(torch.unsqueeze(parameters[:,5],1).isnan(),dim=1)]\n",
        "\n",
        "  total_loss = criterion(predP,paramP) + criterion(predTheta,paramTheta) + \\\n",
        "        criterion(predPhi,paramPhi) + criterion(predDelta,paramPDelta) + \\\n",
        "        criterion(predCAA,paramCAA) + criterion(predCPA,paramCPA) # + criterion(predict[0],torch.unsqueeze(parameters[:,0],1))\n",
        "  return total_loss"
      ],
      "metadata": {
        "id": "gpKvy69scdmu"
      },
      "execution_count": 12,
      "outputs": []
    },
    {
      "cell_type": "code",
      "source": [
        "def trainGPNNRegressor(model, trainloader,testloader,device = 'cpu', num_epochs = 2, criterion = nn.MSELoss,\\\n",
        "              optimizer = optim.Adam,learning_rate = 0.001):\n",
        "\n",
        "    # Замораживаем веса для эмбединга\n",
        "    for param in model.embedding_stack.parameters():\n",
        "      param.requires_grad = False\n",
        "    \n",
        "      \n",
        "    optimizer = optimizer(model.parameters(), lr=learning_rate)\n",
        "    num_epochs = num_epochs\n",
        "    loss_hist_train = [] # for plotting\n",
        "    loss_hist_test = []\n",
        "    accTrainP,accTrainTheta,accTrainPhi,accTrainDelta = [],[],[],[]\n",
        "    accTestP,accTestTheta,accTestPhi,accTestDelta = [],[],[],[]\n",
        "    accTrainR, accTrainKsi = [],[]\n",
        "    accTestR, accTestKsi = [],[]\n",
        "    accTrainT = []\n",
        "    accTestT = []\n",
        "\n",
        "    for epoch in tqdm(range(num_epochs)):\n",
        "        # Обучение\n",
        "\n",
        "        hist_loss = 0\n",
        "        model.train()\n",
        "        for corrFunc, _, parameters in trainloader:\n",
        "            corrFunc, parameters = corrFunc.to(device), parameters.to(device)\n",
        "            optimizer.zero_grad()\n",
        "            loss = lossRegressionGP(criterion, model(corrFunc,mod = 'regression'), parameters)\n",
        "            loss.backward()    \n",
        "            optimizer.step()\n",
        "            hist_loss += loss.item()\n",
        "        loss_hist_train.append(hist_loss /len(trainloader))\n",
        "        \n",
        "        accP,accTheta,accPhi,accDelta,accR,accKsi = accRegressor(model,trainloader,device)\n",
        "        accTrainP.append(accP);accTrainTheta.append(accTheta)\n",
        "        accTrainPhi.append(accPhi);accTrainDelta.append(accDelta)\n",
        "        accTrainKsi.append(accKsi);accTrainR.append(accR)\n",
        "\n",
        "\n",
        "        # Проверка на тестовых данных\n",
        "        model.eval()\n",
        "        test_loss = 0\n",
        "        numBatch = 0\n",
        "        with torch.no_grad():\n",
        "          for corrFunc, _,parameters in testloader:\n",
        "            corrFunc, parameters = corrFunc.to(device), parameters.to(device)\n",
        "            loss = lossRegressionGP(criterion, model(corrFunc,mod = 'regression'), parameters)\n",
        "            test_loss += loss.item()\n",
        "        loss_hist_test.append(test_loss/len(testloader))\n",
        "\n",
        "        accP,accTheta,accPhi,accDelta,accR,accKsi = accRegressor(model,testloader,device)\n",
        "        accTestP.append(accP);accTestTheta.append(accTheta)\n",
        "        accTestPhi.append(accPhi);accTestDelta.append(accDelta)\n",
        "        accTestKsi.append(accKsi);accTestR.append(accR)\n",
        "\n",
        "        \n",
        "        if epoch%9 == 0: print(f\"Epoch={epoch} loss_train={loss_hist_train[epoch]:.5f} loss_test={loss_hist_test[epoch]:.5f}\")\n",
        "    \n",
        "    return loss_hist_train,loss_hist_test,\\\n",
        "      [accTrainP,accTrainTheta,accTrainPhi,accTrainDelta,accTrainR,accTrainKsi],\\\n",
        "      [accTestP,accTestTheta,accTestPhi,accTestDelta,accTestR,accTestKsi]"
      ],
      "metadata": {
        "id": "8ALOKotibcqV"
      },
      "execution_count": 13,
      "outputs": []
    },
    {
      "cell_type": "markdown",
      "source": [
        "## Обучение"
      ],
      "metadata": {
        "id": "KxwM6k-Ub2Yx"
      }
    },
    {
      "cell_type": "markdown",
      "source": [
        "**НУЖНО ОТКЛЧИТЬ БИАС:*!!!!*"
      ],
      "metadata": {
        "id": "QBQEu8cr7dyK"
      }
    },
    {
      "cell_type": "code",
      "source": [
        "device = torch.device('cuda' if torch.cuda.is_available() else 'cpu')\n",
        "print('Using device:', device)"
      ],
      "metadata": {
        "colab": {
          "base_uri": "https://localhost:8080/"
        },
        "id": "wYCqMSGxcDDY",
        "outputId": "3965a2eb-90b7-47fe-f260-117863c62e5d"
      },
      "execution_count": 14,
      "outputs": [
        {
          "output_type": "stream",
          "name": "stdout",
          "text": [
            "Using device: cuda\n"
          ]
        }
      ]
    },
    {
      "cell_type": "code",
      "source": [
        "set_random_seed(42)\n",
        "\n",
        "model = GPNN_v1().to(device)\n",
        "model = model.float()\n",
        "time_0 = time.time()\n",
        "loss_train, loss_test, acc_test, acc_train = trainGPNNClassifier(model,trainDataloader, testDataloader,\\\n",
        "                      num_epochs = 15, criterion = nn.L1Loss ,learning_rate = 0.0001, device = device)\n",
        "print(\"Duration:\", time.time()-time_0)"
      ],
      "metadata": {
        "colab": {
          "base_uri": "https://localhost:8080/"
        },
        "id": "3QQ7R_fQbz_D",
        "outputId": "35b73af4-a525-46fb-ebd9-ee926398ff8b"
      },
      "execution_count": 15,
      "outputs": [
        {
          "output_type": "stream",
          "name": "stderr",
          "text": [
            "  7%|▋         | 1/15 [00:14<03:26, 14.75s/it]"
          ]
        },
        {
          "output_type": "stream",
          "name": "stdout",
          "text": [
            "Epoch=0 loss_train=0.26315 loss_test=0.11312\n"
          ]
        },
        {
          "output_type": "stream",
          "name": "stderr",
          "text": [
            " 67%|██████▋   | 10/15 [02:00<00:59, 11.84s/it]"
          ]
        },
        {
          "output_type": "stream",
          "name": "stdout",
          "text": [
            "Epoch=9 loss_train=0.03710 loss_test=0.04355\n"
          ]
        },
        {
          "output_type": "stream",
          "name": "stderr",
          "text": [
            "100%|██████████| 15/15 [03:00<00:00, 12.00s/it]"
          ]
        },
        {
          "output_type": "stream",
          "name": "stdout",
          "text": [
            "Duration: 180.05111384391785\n"
          ]
        },
        {
          "output_type": "stream",
          "name": "stderr",
          "text": [
            "\n"
          ]
        }
      ]
    },
    {
      "cell_type": "code",
      "source": [
        "\n",
        "loss_trainR, loss_testR, acc_testR, acc_trainR = trainGPNNRegressor(model,trainDataloader, testDataloader,\\\n",
        "                      num_epochs = 15, learning_rate = 0.0001, device = device)\n"
      ],
      "metadata": {
        "colab": {
          "base_uri": "https://localhost:8080/"
        },
        "id": "Zieiq5gIZeio",
        "outputId": "89a65edc-ca78-4ba4-fa45-28fdcad7634b"
      },
      "execution_count": 16,
      "outputs": [
        {
          "output_type": "stream",
          "name": "stderr",
          "text": [
            "  7%|▋         | 1/15 [00:16<03:46, 16.20s/it]"
          ]
        },
        {
          "output_type": "stream",
          "name": "stdout",
          "text": [
            "Epoch=0 loss_train=0.40307 loss_test=0.22036\n"
          ]
        },
        {
          "output_type": "stream",
          "name": "stderr",
          "text": [
            " 67%|██████▋   | 10/15 [02:42<01:22, 16.45s/it]"
          ]
        },
        {
          "output_type": "stream",
          "name": "stdout",
          "text": [
            "Epoch=9 loss_train=0.14687 loss_test=0.13164\n"
          ]
        },
        {
          "output_type": "stream",
          "name": "stderr",
          "text": [
            "100%|██████████| 15/15 [04:04<00:00, 16.29s/it]\n"
          ]
        }
      ]
    },
    {
      "cell_type": "code",
      "source": [
        "fig, ax = plt.subplots()\n",
        "ax.plot(loss_trainR, label='Train loss')\n",
        "ax.plot(loss_testR, label='Test loss')\n",
        "ax.set_xlabel(\"Номер эпохи\")\n",
        "ax.set_ylabel(\"Величина потерь\")\n",
        "ax.legend()"
      ],
      "metadata": {
        "colab": {
          "base_uri": "https://localhost:8080/",
          "height": 296
        },
        "id": "5dBSO15Vc_Ze",
        "outputId": "82b3d240-132e-4fba-ac56-552b6ed81e03"
      },
      "execution_count": 17,
      "outputs": [
        {
          "output_type": "execute_result",
          "data": {
            "text/plain": [
              "<matplotlib.legend.Legend at 0x7f5a7dc01580>"
            ]
          },
          "metadata": {},
          "execution_count": 17
        },
        {
          "output_type": "display_data",
          "data": {
            "text/plain": [
              "<Figure size 432x288 with 1 Axes>"
            ],
            "image/png": "[encoded data removed]"
          },
          "metadata": {
            "needs_background": "light"
          }
        }
      ]
    },
    {
      "cell_type": "code",
      "source": [
        "## ТОЧНОСТЬ МОДУЛЯ РЕГРЕССИ\n",
        "fig, ax = plt.subplots()\n",
        "ax.plot(acc_testR[5],label='Ksi')\n",
        "ax.plot(acc_testR[0],label='Theta')\n",
        "ax.plot(acc_testR[1],label='P')\n",
        "ax.plot(acc_testR[2],label='Phi')\n",
        "ax.plot(acc_testR[3],label='Delta')\n",
        "ax.plot(acc_testR[4],label='R')\n",
        "#ax.plot(acc_testR[6],label='Ksi')\n",
        "ax.plot(acc_trainR[5],\".\")\n",
        "ax.plot(acc_trainR[0],\".\")\n",
        "ax.plot(acc_trainR[1],\".\")\n",
        "ax.plot(acc_trainR[2],\".\")\n",
        "ax.plot(acc_trainR[3],\".\")\n",
        "ax.plot(acc_trainR[4],\".\")\n",
        "#ax.plot(acc_trainR[6],\".\")\n",
        "ax.set_xlabel(\"Номер эпохи\")\n",
        "ax.set_ylabel(\"Величина Отклонения\")\n",
        "ax.legend()"
      ],
      "metadata": {
        "colab": {
          "base_uri": "https://localhost:8080/",
          "height": 297
        },
        "id": "GCUNFzlcgWr0",
        "outputId": "32367a72-6bd8-45ec-ad20-a1286387286d"
      },
      "execution_count": 18,
      "outputs": [
        {
          "output_type": "execute_result",
          "data": {
            "text/plain": [
              "<matplotlib.legend.Legend at 0x7f5a73c50f10>"
            ]
          },
          "metadata": {},
          "execution_count": 18
        },
        {
          "output_type": "display_data",
          "data": {
            "text/plain": [
              "<Figure size 432x288 with 1 Axes>"
            ],
            "image/png": "[encoded data removed]"
          },
          "metadata": {
            "needs_background": "light"
          }
        }
      ]
    },
    {
      "cell_type": "code",
      "source": [
        "## ТОЧНОСТЬ МОДУЛЯ КЛАССИФИКАТОРА\n",
        "\n",
        "fig, ax = plt.subplots()\n",
        "ax.plot(acc_test[0],label='LAA')\n",
        "ax.plot(acc_test[1],label='LPA')\n",
        "ax.plot(acc_test[2],label='CAA')\n",
        "ax.plot(acc_test[3],label='CPA')\n",
        "ax.plot(acc_train[0],\".\")\n",
        "ax.plot(acc_train[1],\".\")\n",
        "ax.plot(acc_train[2],\".\")\n",
        "ax.plot(acc_train[3],\".\")\n",
        "ax.set_xlabel(\"Номер эпохи\")\n",
        "ax.set_ylabel(\"Величина accuracy\")\n",
        "ax.legend()\n",
        "  "
      ],
      "metadata": {
        "colab": {
          "base_uri": "https://localhost:8080/",
          "height": 296
        },
        "id": "BsPpfajWA4Oz",
        "outputId": "f5b8c659-e88f-4950-ff6a-80aea7725711"
      },
      "execution_count": 19,
      "outputs": [
        {
          "output_type": "execute_result",
          "data": {
            "text/plain": [
              "<matplotlib.legend.Legend at 0x7f5a6efa8dc0>"
            ]
          },
          "metadata": {},
          "execution_count": 19
        },
        {
          "output_type": "display_data",
          "data": {
            "text/plain": [
              "<Figure size 432x288 with 1 Axes>"
            ],
            "image/png": "[encoded data removed]"
          },
          "metadata": {
            "needs_background": "light"
          }
        }
      ]
    },
    {
      "cell_type": "markdown",
      "source": [
        "## допл"
      ],
      "metadata": {
        "id": "HHgjtYvcmwVI"
      }
    },
    {
      "cell_type": "code",
      "source": [
        "\n",
        "print(model.embedding_stack)"
      ],
      "metadata": {
        "colab": {
          "base_uri": "https://localhost:8080/"
        },
        "id": "5xFj_tCmN61d",
        "outputId": "0db219a0-ffca-4b8b-f22d-b0610f8e320b"
      },
      "execution_count": 22,
      "outputs": [
        {
          "output_type": "stream",
          "name": "stdout",
          "text": [
            "Sequential(\n",
            "  (0): Linear(in_features=5, out_features=200, bias=False)\n",
            "  (1): ReLU()\n",
            "  (2): BatchNorm1d(200, eps=1e-05, momentum=0.1, affine=True, track_running_stats=True)\n",
            "  (3): Linear(in_features=200, out_features=2000, bias=False)\n",
            "  (4): ReLU()\n",
            "  (5): BatchNorm1d(2000, eps=1e-05, momentum=0.1, affine=True, track_running_stats=True)\n",
            "  (6): Linear(in_features=2000, out_features=4000, bias=False)\n",
            "  (7): ReLU()\n",
            "  (8): BatchNorm1d(4000, eps=1e-05, momentum=0.1, affine=True, track_running_stats=True)\n",
            "  (9): Linear(in_features=4000, out_features=700, bias=False)\n",
            "  (10): ReLU()\n",
            "  (11): BatchNorm1d(700, eps=1e-05, momentum=0.1, affine=True, track_running_stats=True)\n",
            ")\n"
          ]
        }
      ]
    },
    {
      "cell_type": "code",
      "source": [],
      "metadata": {
        "id": "9gG44Wbo6vhW"
      },
      "execution_count": null,
      "outputs": []
    }
  ]
}